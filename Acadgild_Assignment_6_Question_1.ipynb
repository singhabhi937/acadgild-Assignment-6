{
 "cells": [
  {
   "cell_type": "code",
   "execution_count": 17,
   "metadata": {},
   "outputs": [],
   "source": [
    "# 1 Write a function so that the columns of the output matrix are powers of the input\n",
    "# vector.\n",
    "# The order of the powers is determined by the increasing boolean argument. Specifically,\n",
    "# when increasing is False, the i-th output column is the input vector raised element-wise\n",
    "# to the power of N - i - 1.\n",
    "\n",
    "# HINT: Such a matrix with a geometric progression in each row is named for Alexandre-\n",
    "# Theophile Vandermonde."
   ]
  },
  {
   "cell_type": "code",
   "execution_count": 18,
   "metadata": {},
   "outputs": [],
   "source": [
    "import numpy as np"
   ]
  },
  {
   "cell_type": "code",
   "execution_count": 41,
   "metadata": {},
   "outputs": [],
   "source": [
    "def matrixGeoProgession(x,n,increasingBoolean):\n",
    "    l=[]\n",
    "    if increasingBoolean==True:\n",
    "        for item in x:\n",
    "            v=[]\n",
    "            for j in range(n):\n",
    "                v.append(item**j)\n",
    "                l.append(v)\n",
    "        return np.array(l)\n",
    "    \n",
    "    else:\n",
    "        for item in x:\n",
    "            v=[]\n",
    "            for j in range(n):\n",
    "                v.append(item**j)\n",
    "                l.append(v[::-1])\n",
    "    return np.array(l)         \n",
    "            \n",
    "    "
   ]
  },
  {
   "cell_type": "code",
   "execution_count": 42,
   "metadata": {},
   "outputs": [],
   "source": [
    "x=np.array([1,2,3,5])"
   ]
  },
  {
   "cell_type": "code",
   "execution_count": 43,
   "metadata": {},
   "outputs": [
    {
     "data": {
      "text/plain": [
       "array([list([1]), list([1, 1]), list([1, 1, 1]), list([1]), list([2, 1]),\n",
       "       list([4, 2, 1]), list([1]), list([3, 1]), list([9, 3, 1]),\n",
       "       list([1]), list([5, 1]), list([25, 5, 1])], dtype=object)"
      ]
     },
     "execution_count": 43,
     "metadata": {},
     "output_type": "execute_result"
    }
   ],
   "source": [
    "matrixGeoProgession(x,3,False)"
   ]
  },
  {
   "cell_type": "code",
   "execution_count": 44,
   "metadata": {},
   "outputs": [
    {
     "data": {
      "text/plain": [
       "1"
      ]
     },
     "execution_count": 44,
     "metadata": {},
     "output_type": "execute_result"
    }
   ],
   "source": []
  },
  {
   "cell_type": "code",
   "execution_count": null,
   "metadata": {},
   "outputs": [],
   "source": []
  }
 ],
 "metadata": {
  "kernelspec": {
   "display_name": "Python 3",
   "language": "python",
   "name": "python3"
  },
  "language_info": {
   "codemirror_mode": {
    "name": "ipython",
    "version": 3
   },
   "file_extension": ".py",
   "mimetype": "text/x-python",
   "name": "python",
   "nbconvert_exporter": "python",
   "pygments_lexer": "ipython3",
   "version": "3.7.0"
  }
 },
 "nbformat": 4,
 "nbformat_minor": 2
}
